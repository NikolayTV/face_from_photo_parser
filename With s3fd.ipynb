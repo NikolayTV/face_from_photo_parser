{
 "cells": [
  {
   "cell_type": "code",
   "execution_count": 6,
   "metadata": {
    "scrolled": true
   },
   "outputs": [],
   "source": [
    "\n",
    "import matplotlib.pyplot as plt\n",
    "import cv2\n",
    "import numpy as np\n",
    "import pandas as pd\n",
    "from glob import glob\n",
    "import re\n",
    "from tqdm import tqdm_notebook as tqdm\n",
    "from pathlib import Path\n",
    "import os\n",
    "\n",
    "from faceDetectorS3fd.face_detector.detect_engine import FaceDetectionEngine\n",
    "\n",
    "detector = FaceDetectionEngine(weights_path=\"faceDetectorS3fd/face_detector/s3fd_convert.pth\")\n",
    "\n"
   ]
  },
  {
   "cell_type": "code",
   "execution_count": 7,
   "metadata": {},
   "outputs": [],
   "source": [
    "import fnmatch\n",
    "import os\n",
    "import re\n",
    "from pathlib import Path\n",
    "\n",
    "\n",
    "def resize_by_height(img, new_height):\n",
    "    '''\n",
    "    Input: image, new_height\n",
    "    Returns: image with new height and scaled width\n",
    "    '''\n",
    "    height, width = img.shape[:2]\n",
    "    resize_multiple = new_height / height\n",
    "    img = cv2.resize(img, None, fx=resize_multiple, fy=resize_multiple, interpolation=cv2.INTER_AREA)\n",
    "    return img\n",
    "\n",
    "\n",
    "def get_face_crop(img):\n",
    "\n",
    "    results = anfas_detector.detect_faces(img)\n",
    "    if results == []: \n",
    "        return results, None\n",
    "\n",
    "    x, y, w, h = results[0]['box']\n",
    "\n",
    "    y_border, x_border = img.shape[:2]\n",
    "    x1, y1, x2, y2 = max(0, x), max(0, y), min(x_border, x+w), min(y_border, y+h)\n",
    "\n",
    "    face_crop = img[y1:y2, x1:x2]\n",
    "    return face_crop, round(results[0]['confidence'], 2)\n",
    "\n",
    "\n",
    "def get_all_fnames(base_folder):\n",
    "    all_fnames = glob(str(Path(base_folder, '**', '*')), recursive=True)\n",
    "    all_imgs = []\n",
    "    patterns = ['*jpg', '*jpeg', '*png']\n",
    "\n",
    "    for pattern in patterns:\n",
    "        match = re.compile(fnmatch.translate(pattern), re.IGNORECASE).match\n",
    "        valid_pths = [pth for pth in all_fnames if match(pth)]\n",
    "        all_imgs.extend(valid_pths)\n",
    "                      \n",
    "    return all_imgs"
   ]
  },
  {
   "cell_type": "code",
   "execution_count": 15,
   "metadata": {
    "scrolled": false
   },
   "outputs": [
    {
     "name": "stderr",
     "output_type": "stream",
     "text": [
      "/home/nikolay/.pyenv/versions/3.7.3/envs/main/lib/python3.7/site-packages/ipykernel_launcher.py:15: TqdmDeprecationWarning: This function will be removed in tqdm==5.0.0\n",
      "Please use `tqdm.notebook.tqdm` instead of `tqdm.tqdm_notebook`\n",
      "  from ipykernel import kernelapp as app\n"
     ]
    },
    {
     "data": {
      "application/vnd.jupyter.widget-view+json": {
       "model_id": "cb76633b30e74d30a5a66ac727996161",
       "version_major": 2,
       "version_minor": 0
      },
      "text/plain": [
       "HBox(children=(FloatProgress(value=0.0, max=3204.0), HTML(value='')))"
      ]
     },
     "metadata": {},
     "output_type": "display_data"
    },
    {
     "name": "stdout",
     "output_type": "stream",
     "text": [
      "\n"
     ]
    }
   ],
   "source": [
    "# -*- coding: utf-8 -*-\n",
    "import cv2\n",
    "import numpy\n",
    "\n",
    "\n",
    "\n",
    "\n",
    "base_folder = '/home/nikolay/Documents/MUST/DS Drivers Faces-20200704T025843Z-001/DS Drivers Faces/Копии документов'\n",
    "result_base_folder = Path(f'{base_folder}_result')\n",
    "if not os.path.exists(result_base_folder):\n",
    "    os.mkdir(result_base_folder)\n",
    "    \n",
    "    \n",
    "all_imgs = get_all_fnames(base_folder)\n",
    "for num, img_path in enumerate(tqdm(all_imgs[:])):\n",
    "    folder_name = Path(img_path).parts[-2]\n",
    "    img_name = Path(img_path).parts[-1]\n",
    "    \n",
    "#     stream = open(f'{img_path}', \"rb\")\n",
    "#     bytes_ = bytearray(stream.read())\n",
    "#     numpyarray = np.asarray(bytes_, dtype=numpy.uint8)\n",
    "#     img = cv2.imdecode(numpyarray, cv2.IMREAD_UNCHANGED)\n",
    "\n",
    "    img = cv2.imread(img_path)\n",
    "#     print(img.shape, img_path)\n",
    "\n",
    "    img = resize_by_height(img, 512)\n",
    "    \n",
    "#     plt.imshow(img)\n",
    "#     plt.show()\n",
    "    preds = detector.predict(img, dilate_bbox=True)\n",
    "    if len(preds) > 0: crop = detector.crop(img, preds[0])\n",
    "\n",
    "    if len(preds) == 0: \n",
    "        img = cv2.rotate(img, rotateCode = 0)\n",
    "        preds = detector.predict(img, dilate_bbox=True)\n",
    "        if len(preds) > 0: crop = detector.crop(img, preds[0])\n",
    "\n",
    "        if len(preds) == 0: \n",
    "            img = cv2.rotate(img, rotateCode = 0)\n",
    "            preds = detector.predict(img, dilate_bbox=True)\n",
    "            if len(preds) > 0: crop = detector.crop(img, preds[0])\n",
    "\n",
    "            if len(preds) == 0: \n",
    "                img = cv2.rotate(img, rotateCode = 0)\n",
    "                preds = detector.predict(img, dilate_bbox=True)\n",
    "                if len(preds) > 0: crop = detector.crop(img, preds[0])\n",
    "                continue\n",
    "                \n",
    "        \n",
    "    if not os.path.exists(result_base_folder/folder_name):\n",
    "        os.mkdir(result_base_folder/folder_name)\n",
    "        \n",
    "    cv2.imwrite(str(result_base_folder/folder_name/Path(img_name)), crop)\n",
    "    \n",
    "    \n",
    "    if num % 100 == 0:\n",
    "        with open('progress.txt', 'w') as f:\n",
    "            f.write(str(num))\n",
    "            \n",
    "#     plt.imshow(crop)\n",
    "#     plt.show()"
   ]
  },
  {
   "cell_type": "markdown",
   "metadata": {},
   "source": [
    "# Check what folders were not detected with faces"
   ]
  },
  {
   "cell_type": "code",
   "execution_count": 21,
   "metadata": {},
   "outputs": [
    {
     "data": {
      "text/plain": [
       "0      434\n",
       "1      040\n",
       "2      111\n",
       "3      047\n",
       "4      242\n",
       "      ... \n",
       "470    194\n",
       "471    200\n",
       "472    291\n",
       "473    163\n",
       "474    294\n",
       "Length: 475, dtype: object"
      ]
     },
     "execution_count": 21,
     "metadata": {},
     "output_type": "execute_result"
    }
   ],
   "source": [
    "base_folder = '/home/nikolay/Documents/MUST/DS Drivers Faces-20200704T025843Z-001/DS Drivers Faces/Копии документов'\n",
    "base_folder_names = pd.Series(os.listdir(base_folder))\n",
    "base_folder_names"
   ]
  },
  {
   "cell_type": "code",
   "execution_count": 22,
   "metadata": {},
   "outputs": [
    {
     "data": {
      "text/plain": [
       "0      040\n",
       "1      111\n",
       "2      047\n",
       "3      242\n",
       "4      339\n",
       "      ... \n",
       "450    194\n",
       "451    200\n",
       "452    291\n",
       "453    163\n",
       "454    294\n",
       "Length: 455, dtype: object"
      ]
     },
     "execution_count": 22,
     "metadata": {},
     "output_type": "execute_result"
    }
   ],
   "source": [
    "result_folder = base_folder+'_result'\n",
    "result_folder_names = pd.Series(os.listdir(result_folder))\n",
    "result_folder_names"
   ]
  },
  {
   "cell_type": "code",
   "execution_count": 27,
   "metadata": {},
   "outputs": [
    {
     "data": {
      "text/plain": [
       "0          434\n",
       "9          432\n",
       "24         360\n",
       "55         376\n",
       "91         347\n",
       "130        014\n",
       "142        471\n",
       "168        361\n",
       "202        472\n",
       "209    454 (1)\n",
       "242        422\n",
       "248        346\n",
       "270        173\n",
       "304         72\n",
       "355        462\n",
       "365        401\n",
       "370        275\n",
       "371    145 (1)\n",
       "413        431\n",
       "461        414\n",
       "dtype: object"
      ]
     },
     "execution_count": 27,
     "metadata": {},
     "output_type": "execute_result"
    }
   ],
   "source": [
    "base_folder_names[~base_folder_names.isin(result_folder_names)]"
   ]
  },
  {
   "cell_type": "code",
   "execution_count": null,
   "metadata": {},
   "outputs": [],
   "source": [
    "\n"
   ]
  }
 ],
 "metadata": {
  "kernelspec": {
   "display_name": "Python 3",
   "language": "python",
   "name": "python3"
  },
  "language_info": {
   "codemirror_mode": {
    "name": "ipython",
    "version": 3
   },
   "file_extension": ".py",
   "mimetype": "text/x-python",
   "name": "python",
   "nbconvert_exporter": "python",
   "pygments_lexer": "ipython3",
   "version": "3.7.3"
  }
 },
 "nbformat": 4,
 "nbformat_minor": 2
}
